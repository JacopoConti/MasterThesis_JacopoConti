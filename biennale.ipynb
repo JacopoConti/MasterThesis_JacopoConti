{
 "cells": [
  {
   "cell_type": "code",
   "execution_count": 43,
   "id": "395b7ba0-8677-4cee-bfca-b0cd81971320",
   "metadata": {},
   "outputs": [],
   "source": [
    "import pandas as pd\n",
    "import numpy as np\n",
    "import json\n",
    "from tqdm import tqdm"
   ]
  },
  {
   "cell_type": "code",
   "execution_count": 24,
   "id": "fc28d3e8-5e9e-4c15-8994-1c95afc94a64",
   "metadata": {},
   "outputs": [
    {
     "data": {
      "text/plain": [
       "Traceback (most recent call last):\n",
       "  File \"/Users/jac/.vscode/extensions/ms-python.python-2025.0.0-darwin-arm64/python_files/python_server.py\", line 133, in exec_user_input\n",
       "    retval = callable_(user_input, user_globals)\n",
       "             ^^^^^^^^^^^^^^^^^^^^^^^^^^^^^^^^^^^\n",
       "  File \"<string>\", line 2, in <module>\n",
       "FileNotFoundError: [Errno 2] No such file or directory: '/work/netsi/yixuan.l/art/data/arts_long_df/artfacts_full_good.json'\n",
       "\n"
      ]
     },
     "metadata": {},
     "output_type": "display_data"
    }
   ],
   "source": [
    "data = []\n",
    "with open('/work/netsi/yixuan.l/art/data/arts_long_df/artfacts_full_good.json', 'r') as f:\n",
    "    for line in f:\n",
    "        data.append(json.loads(line))"
   ]
  },
  {
   "cell_type": "code",
   "execution_count": 63,
   "id": "b1cb6a70-7e80-4cc4-99bb-e207dc0ce2fd",
   "metadata": {},
   "outputs": [],
   "source": [
    "def get_artists(row):\n",
    "    artist_ids = []\n",
    "    try:\n",
    "        artists = eval(row['artists'])\n",
    "    except:\n",
    "        return []\n",
    "    for artist in artists:\n",
    "        artist_ids.append(artist['id'])\n",
    "    return artist_ids"
   ]
  },
  {
   "cell_type": "code",
   "execution_count": 64,
   "id": "af104423-f329-44f8-bf10-7c1e79add00f",
   "metadata": {
    "tags": []
   },
   "outputs": [
    {
     "name": "stderr",
     "output_type": "stream",
     "text": [
      "100%|██████████| 1032941/1032941 [01:53<00:00, 9077.84it/s]\n"
     ]
    }
   ],
   "source": [
    "ids = []\n",
    "\n",
    "for row in tqdm(data):\n",
    "    ids.append(get_artists(row))"
   ]
  },
  {
   "cell_type": "code",
   "execution_count": 69,
   "id": "22a9047f-2dbe-41db-b490-d24c95626c42",
   "metadata": {},
   "outputs": [],
   "source": [
    "biennale = pd.read_csv('produced_data_artfacts_VB_artists_complete.csv')"
   ]
  },
  {
   "cell_type": "code",
   "execution_count": 71,
   "id": "9bb69807-884a-4241-a8d4-74c8c9a60ff5",
   "metadata": {},
   "outputs": [],
   "source": [
    "bi = biennale[['id']]"
   ]
  },
  {
   "cell_type": "code",
   "execution_count": 74,
   "id": "4c33a5e3-11ca-43d4-82f3-bc62e14cdd48",
   "metadata": {},
   "outputs": [],
   "source": [
    "ex_ids = [str(row['id']) for row in data]"
   ]
  },
  {
   "cell_type": "code",
   "execution_count": 79,
   "id": "ad54a434-d677-4829-91e3-2854a78eb3ed",
   "metadata": {},
   "outputs": [],
   "source": [
    "df = pd.DataFrame()\n",
    "df['exhibition_id'] = ex_ids\n",
    "df['artist_id'] = ids"
   ]
  },
  {
   "cell_type": "code",
   "execution_count": 81,
   "id": "54c47421-f3cc-4992-9d11-857258ecd6bc",
   "metadata": {},
   "outputs": [],
   "source": [
    "df_a = df.explode('artist_id')"
   ]
  },
  {
   "cell_type": "code",
   "execution_count": 85,
   "id": "c8680bc8-5b32-476b-bafe-02893c03ffc6",
   "metadata": {},
   "outputs": [],
   "source": [
    "bi_artists = biennale['id'].astype(str)"
   ]
  },
  {
   "cell_type": "code",
   "execution_count": 87,
   "id": "f39d0f78-6085-4877-a721-887630dfe1e4",
   "metadata": {},
   "outputs": [],
   "source": [
    "df_a = df_a[df_a['artist_id'].isin(bi_artists)]"
   ]
  },
  {
   "cell_type": "code",
   "execution_count": 99,
   "id": "a0351283-3d7c-472a-8547-dbd8d8855624",
   "metadata": {},
   "outputs": [
    {
     "data": {
      "text/plain": [
       "Traceback (most recent call last):\n",
       "  File \"/Users/jac/.vscode/extensions/ms-python.python-2025.0.0-darwin-arm64/python_files/python_server.py\", line 133, in exec_user_input\n",
       "    retval = callable_(user_input, user_globals)\n",
       "             ^^^^^^^^^^^^^^^^^^^^^^^^^^^^^^^^^^^\n",
       "  File \"<string>\", line 1, in <module>\n",
       "IndexError: list index out of range\n",
       "\n"
      ]
     },
     "metadata": {},
     "output_type": "display_data"
    }
   ],
   "source": [
    "x = data[0]"
   ]
  },
  {
   "cell_type": "code",
   "execution_count": 100,
   "id": "c3c98d79-f9b6-4270-91e0-ba0aa8f8fbbf",
   "metadata": {},
   "outputs": [
    {
     "data": {
      "text/plain": [
       "Traceback (most recent call last):\n",
       "  File \"/Users/jac/.vscode/extensions/ms-python.python-2025.0.0-darwin-arm64/python_files/python_server.py\", line 133, in exec_user_input\n",
       "    retval = callable_(user_input, user_globals)\n",
       "             ^^^^^^^^^^^^^^^^^^^^^^^^^^^^^^^^^^^\n",
       "  File \"<string>\", line 1, in <module>\n",
       "NameError: name 'x' is not defined\n",
       "\n"
      ]
     },
     "metadata": {},
     "output_type": "display_data"
    }
   ],
   "source": [
    "x"
   ]
  },
  {
   "cell_type": "code",
   "execution_count": 103,
   "id": "8de45c28-e78f-4703-9fbe-ddff9d9c7d5e",
   "metadata": {},
   "outputs": [],
   "source": [
    "info = []\n",
    "for row in data:\n",
    "    _id = str(row['id'])\n",
    "    t = row['type']\n",
    "    vn = row['venue_name']\n",
    "    vcid = row['city_id']\n",
    "    vci = row['city_name']\n",
    "    vco = row['country_name']\n",
    "    vcoi = row['country_id']\n",
    "    bd = row['begin_date']\n",
    "    ed = row['end_date']\n",
    "    info.append([_id, t, vn, vcid, vci, vco, vcoi, bd, ed])\n",
    "info = pd.DataFrame(info, columns=['exhibition_id', 'type', 'venue_name', 'city_id', 'city_name', 'country_name', 'country_id', 'begin_date', 'end_date'])\n"
   ]
  },
  {
   "cell_type": "code",
   "execution_count": 109,
   "id": "db51f13c-c4f5-4d69-9662-2a11492624e4",
   "metadata": {},
   "outputs": [],
   "source": [
    "info = info[info.exhibition_id.isin(df_a['exhibition_id'].unique())]"
   ]
  },
  {
   "cell_type": "code",
   "execution_count": 115,
   "id": "6b666ca1-d00d-48cc-9205-b6fe53cec15a",
   "metadata": {},
   "outputs": [],
   "source": [
    "info.to_csv('exhibition_info.csv', index=False)"
   ]
  },
  {
   "cell_type": "code",
   "execution_count": 117,
   "id": "02420d36-a6e7-45bc-9958-9fca23b22d61",
   "metadata": {},
   "outputs": [],
   "source": [
    "df_a.to_csv('artist_exhibition.csv', index=False)"
   ]
  },
  {
   "cell_type": "code",
   "execution_count": null,
   "id": "1da2c2ef",
   "metadata": {},
   "outputs": [
    {
     "data": {
      "text/plain": [
       "Traceback (most recent call last):\n",
       "  File \"/Users/jac/.vscode/extensions/ms-python.python-2025.0.0-darwin-arm64/python_files/python_server.py\", line 133, in exec_user_input\n",
       "    retval = callable_(user_input, user_globals)\n",
       "             ^^^^^^^^^^^^^^^^^^^^^^^^^^^^^^^^^^^\n",
       "  File \"<string>\", line 2, in <module>\n",
       "NameError: name 'os' is not defined\n",
       "\n"
      ]
     },
     "metadata": {},
     "output_type": "display_data"
    }
   ],
   "source": [
    "# Define the path to the desktop\n",
    "desktop_path = os.path.join(os.path.expanduser(\"~\"), \"Desktop\", \"df_a.csv\")\n",
    "\n",
    "# Save the DataFrame to a CSV file on the desktop\n",
    "df_a.to_csv(desktop_path, index=False)"
   ]
  },
  {
   "cell_type": "markdown",
   "id": "e2579cde",
   "metadata": {},
   "source": []
  },
  {
   "cell_type": "code",
   "execution_count": null,
   "id": "beb6045a-e81c-47d7-b850-eb64db9091e6",
   "metadata": {},
   "outputs": [],
   "source": [
    "# country_1 country_2 num_artists"
   ]
  },
  {
   "cell_type": "code",
   "execution_count": null,
   "id": "22c06509-e39a-4c02-84e4-a776248e0960",
   "metadata": {},
   "outputs": [],
   "source": [
    "# add biennale node from yixuan"
   ]
  },
  {
   "cell_type": "code",
   "execution_count": 118,
   "id": "abba8d6b-7cad-4df7-af2d-86ccc0215718",
   "metadata": {},
   "outputs": [
    {
     "data": {
      "text/plain": [
       "Empty DataFrame\n",
       "Columns: [exhibition_id, artist_id]\n",
       "Index: []\n"
      ]
     },
     "metadata": {},
     "output_type": "display_data"
    }
   ],
   "source": [
    "df_a.head()"
   ]
  }
 ],
 "metadata": {
  "kernelspec": {
   "display_name": "Python 3 (ipykernel)",
   "language": "python",
   "name": "python3"
  },
  "language_info": {
   "codemirror_mode": {
    "name": "ipython",
    "version": 3
   },
   "file_extension": ".py",
   "mimetype": "text/x-python",
   "name": "python",
   "nbconvert_exporter": "python",
   "pygments_lexer": "ipython3",
   "version": "3.9.12"
  }
 },
 "nbformat": 4,
 "nbformat_minor": 5
}
